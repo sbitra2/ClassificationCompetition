{
 "cells": [
  {
   "cell_type": "markdown",
   "metadata": {
    "id": "LRSPEoK5qUMR"
   },
   "source": [
    "# Text Classification - Sarcasm Detection\n",
    "\n",
    "**Problem:**\n",
    "Detection of sarcasm from tweets. I got set of training list of tweets and the context for each tweet. using the state of art text classification practices I need to generate a model to solve the problem.\n",
    "\n",
    "**Approach:** \n",
    "Using Tensorflow2 and Keras deep learning API with Pretrained BERT to generate a model. \n",
    "\n",
    "\n",
    "**Results:**\n",
    "I have tried multiple models with various combination with BERT,LSTM and finally following model gave me better results. \n",
    "\n",
    "Below are a validation results for 500 tweets, Validated from the generated trained model(Note: results varies by training epochs).\n",
    "\n",
    "              precision    recall  f1-score   support\n",
    "     SARCASM       0.79      0.80      0.80       250\n",
    "     NOT_SARCASM   0.80      0.79      0.80       250\n",
    "     ------------------------------------------------\n",
    "     accuracy                          0.80       500\n",
    "     macro avg     0.80      0.80      0.80       500\n",
    "     weighted avg  0.80      0.80      0.80       500\n",
    "\n"
   ]
  },
  {
   "cell_type": "markdown",
   "metadata": {
    "id": "ZB_Z_5tOtjnc"
   },
   "source": [
    "Using Google Colab, Enable the GPU hardware accelator for faster training.\n",
    "\n",
    "Note: to enable GPU, goto Edit -> Network Settings -> set the hardware accelarator to GPU.\n",
    "\n"
   ]
  },
  {
   "cell_type": "code",
   "execution_count": 2,
   "metadata": {
    "colab": {
     "base_uri": "https://localhost:8080/"
    },
    "id": "E4Gfj-ikZ4-6",
    "outputId": "a1f63c33-39fa-4d9c-a52f-371ae6c58f24"
   },
   "outputs": [
    {
     "name": "stdout",
     "output_type": "stream",
     "text": [
      "Sun Dec 13 22:24:26 2020       \n",
      "+-----------------------------------------------------------------------------+\n",
      "| NVIDIA-SMI 455.45.01    Driver Version: 418.67       CUDA Version: 10.1     |\n",
      "|-------------------------------+----------------------+----------------------+\n",
      "| GPU  Name        Persistence-M| Bus-Id        Disp.A | Volatile Uncorr. ECC |\n",
      "| Fan  Temp  Perf  Pwr:Usage/Cap|         Memory-Usage | GPU-Util  Compute M. |\n",
      "|                               |                      |               MIG M. |\n",
      "|===============================+======================+======================|\n",
      "|   0  Tesla T4            Off  | 00000000:00:04.0 Off |                    0 |\n",
      "| N/A   40C    P8     9W /  70W |      0MiB / 15079MiB |      0%      Default |\n",
      "|                               |                      |                 ERR! |\n",
      "+-------------------------------+----------------------+----------------------+\n",
      "                                                                               \n",
      "+-----------------------------------------------------------------------------+\n",
      "| Processes:                                                                  |\n",
      "|  GPU   GI   CI        PID   Type   Process name                  GPU Memory |\n",
      "|        ID   ID                                                   Usage      |\n",
      "|=============================================================================|\n",
      "|  No running processes found                                                 |\n",
      "+-----------------------------------------------------------------------------+\n"
     ]
    }
   ],
   "source": [
    "!nvidia-smi"
   ]
  },
  {
   "cell_type": "code",
   "execution_count": 3,
   "metadata": {
    "id": "QxspAB03SyqZ"
   },
   "outputs": [],
   "source": [
    "!pip install tensorflow-gpu >> /dev/null\n",
    "!pip install --upgrade grpcio >> /dev/null\n",
    "!pip install tqdm >> /dev/null\n",
    "!pip install bert-for-tf2 >> /dev/null\n",
    "!pip install sentencepiece >> /dev/null"
   ]
  },
  {
   "cell_type": "code",
   "execution_count": 4,
   "metadata": {
    "id": "Gvzdwqt8TEqB"
   },
   "outputs": [],
   "source": [
    "import os\n",
    "import math\n",
    "import datetime\n",
    "\n",
    "from tqdm import tqdm\n",
    "\n",
    "import pandas as pd\n",
    "import numpy as np\n",
    "import re\n",
    "import tensorflow as tf\n",
    "from tensorflow import keras\n",
    "\n",
    "import bert\n",
    "\n",
    "from bert import BertModelLayer\n",
    "from bert.loader import StockBertConfig, map_stock_config_to_params, load_stock_weights\n",
    "from bert.tokenization.bert_tokenization import FullTokenizer\n",
    "\n",
    "import seaborn as sns\n",
    "from pylab import rcParams\n",
    "import matplotlib.pyplot as plt\n",
    "from matplotlib.ticker import MaxNLocator\n",
    "from matplotlib import rc\n",
    "from sklearn.metrics import confusion_matrix, classification_report"
   ]
  },
  {
   "cell_type": "markdown",
   "metadata": {
    "id": "7ZSrNn3EZ6ko"
   },
   "source": [
    "#Preprocessing\n",
    "Load Bert Pretrained models. https://github.com/google-research/bert\n",
    "\n",
    "\n",
    "I have choosed uncases L-12 H-768 A-12 model available at https://storage.googleapis.com/bert_models/2018_10_18/uncased_L-12_H-768_A-12.zip\n"
   ]
  },
  {
   "cell_type": "code",
   "execution_count": 5,
   "metadata": {
    "colab": {
     "base_uri": "https://localhost:8080/"
    },
    "id": "XI_IQ8kWTZ3t",
    "outputId": "df0b4569-c570-49c1-fbed-7460bf294ded"
   },
   "outputs": [
    {
     "name": "stdout",
     "output_type": "stream",
     "text": [
      "--2020-12-13 22:25:16--  https://storage.googleapis.com/bert_models/2018_10_18/uncased_L-12_H-768_A-12.zip\n",
      "Resolving storage.googleapis.com (storage.googleapis.com)... 172.217.5.240, 172.217.7.144, 172.217.13.80, ...\n",
      "Connecting to storage.googleapis.com (storage.googleapis.com)|172.217.5.240|:443... connected.\n",
      "HTTP request sent, awaiting response... 200 OK\n",
      "Length: 407727028 (389M) [application/zip]\n",
      "Saving to: ‘uncased_L-12_H-768_A-12.zip’\n",
      "\n",
      "uncased_L-12_H-768_ 100%[===================>] 388.84M   139MB/s    in 2.8s    \n",
      "\n",
      "2020-12-13 22:25:19 (139 MB/s) - ‘uncased_L-12_H-768_A-12.zip’ saved [407727028/407727028]\n",
      "\n",
      "Archive:  uncased_L-12_H-768_A-12.zip\n",
      "   creating: uncased_L-12_H-768_A-12/\n",
      "  inflating: uncased_L-12_H-768_A-12/bert_model.ckpt.meta  \n",
      "  inflating: uncased_L-12_H-768_A-12/bert_model.ckpt.data-00000-of-00001  \n",
      "  inflating: uncased_L-12_H-768_A-12/vocab.txt  \n",
      "  inflating: uncased_L-12_H-768_A-12/bert_model.ckpt.index  \n",
      "  inflating: uncased_L-12_H-768_A-12/bert_config.json  \n"
     ]
    }
   ],
   "source": [
    "!wget https://storage.googleapis.com/bert_models/2018_10_18/uncased_L-12_H-768_A-12.zip\n",
    "!unzip uncased_L-12_H-768_A-12.zip\n",
    "os.makedirs(\"model\", exist_ok=True)\n",
    "!mv uncased_L-12_H-768_A-12/ model\n",
    "\n",
    "bert_model_name=\"uncased_L-12_H-768_A-12\"\n",
    "\n",
    "bert_dir = os.path.join(\"model/\", bert_model_name)\n",
    "bert_file = os.path.join(bert_dir, \"bert_model.ckpt\")\n",
    "bert_config = os.path.join(bert_dir, \"bert_config.json\")\n"
   ]
  },
  {
   "cell_type": "markdown",
   "metadata": {
    "id": "j02RRXXpDmK6"
   },
   "source": [
    "# Data\n",
    "\n",
    "Load the train and test data, for ease of doing i have splitted train data to train and validation data. we can do it using the sklearn \"train_test_split\", but for now i have handled it manually for couple of reason. \n",
    "\n",
    "*   I want to keep the validation set separate from the training list. so that i can validate the overal precision and recal after training\n",
    "*   I dont want to get random set very time, to avoid random results when I run the model multiple times."
   ]
  },
  {
   "cell_type": "code",
   "execution_count": 6,
   "metadata": {
    "id": "90rH_N94oEC7"
   },
   "outputs": [],
   "source": [
    "\n",
    "train = pd.read_json(\"sample_data/train.jsonl\",lines=True)\n",
    "valid = pd.read_json(\"sample_data/valid.jsonl\",lines=True)\n",
    "test = pd.read_json(\"sample_data/test.jsonl\",lines=True)\n",
    "\n"
   ]
  },
  {
   "cell_type": "markdown",
   "metadata": {
    "id": "ERBfrXxUfMlW"
   },
   "source": [
    "Below are some methods used to clean up the text in the training list.\n"
   ]
  },
  {
   "cell_type": "code",
   "execution_count": 22,
   "metadata": {
    "id": "AKFRB6EA4dDd"
   },
   "outputs": [],
   "source": [
    "def preprocess_sentence(text):\n",
    "    text = str(text).lower()\n",
    "    text = re.sub(r\"<url>\", \"\", text)\n",
    "    text=re.sub(r'@\\w+', '',text)\n",
    "    text=re.sub(r'#\\w+', '',text)\n",
    "    text = re.sub(r\"[,.\\\"\\'!@#$%^&*(){}?/;`~:<>+=-]\", \"\", text)\n",
    "    return text;"
   ]
  },
  {
   "cell_type": "markdown",
   "metadata": {
    "id": "EJK4HABggngX"
   },
   "source": [
    "Lets see the training data categories in a graphical view."
   ]
  },
  {
   "cell_type": "code",
   "execution_count": 16,
   "metadata": {
    "colab": {
     "base_uri": "https://localhost:8080/",
     "height": 316.0
    },
    "id": "sKl3ix0na5Aa",
    "outputId": "eade0c9f-ca5e-49e7-caf1-30f3ba24fa0b"
   },
   "outputs": [
    {
     "data": {
      "image/png": "[encoded data removed]",
      "text/plain": [
       "<Figure size 432x288 with 1 Axes>"
      ]
     },
     "metadata": {
      "tags": [],
      "needs_background": "light"
     },
     "output_type": "display_data"
    }
   ],
   "source": [
    "dataCategoriesChart = sns.countplot(x=train.label)\n",
    "dataCategoriesChart.set_xticklabels(dataCategoriesChart.get_xticklabels(), rotation=30, horizontalalignment='right');"
   ]
  },
  {
   "cell_type": "markdown",
   "metadata": {
    "id": "WlHlQW7rhH2-"
   },
   "source": [
    "# Model\n",
    "Below is a scarcasm detection as class."
   ]
  },
  {
   "cell_type": "code",
   "execution_count": 17,
   "metadata": {
    "id": "Zul7PDr1Tojw"
   },
   "outputs": [],
   "source": [
    "class ScarcasmDetectionData:\n",
    "  DATA_COLUMN = \"response\"\n",
    "  CONTEXT_COLUMN = \"context\"\n",
    "  LABEL_COLUMN = \"label\"\n",
    "\n",
    "  def __init__(self, train, test, tokenizer: FullTokenizer, classes, max_seq_len=192):\n",
    "    self.tokenizer = tokenizer\n",
    "    self.max_seq_len = 0\n",
    "    self.classes = classes\n",
    "    \n",
    "    train, test = map(lambda df: df.reindex(df[ScarcasmDetectionData.DATA_COLUMN].str.len().sort_values().index), [train, test])\n",
    "    ((self.train_x, self.train_y), (self.test_x, self.test_y)) = map(self._prepare, [train, test])\n",
    "    self.max_seq_len = min(self.max_seq_len, max_seq_len)\n",
    "    self.train_x, self.test_x = map(self._pad, [self.train_x, self.test_x])\n",
    "\n",
    "  def _prepare(self, df):\n",
    "    x, y = [], []\n",
    "    \n",
    "    for _, row in tqdm(df.iterrows()):\n",
    "      text, label, context = row[ScarcasmDetectionData.DATA_COLUMN], row[ScarcasmDetectionData.LABEL_COLUMN], row[ScarcasmDetectionData.CONTEXT_COLUMN]\n",
    "      tokens = self.tokenizer.tokenize(preprocess_sentence(text))\n",
    "      tokens = [\"[CLS]\"] + tokens + [\"[SEP]\"]\n",
    "      token_ids = self.tokenizer.convert_tokens_to_ids(tokens)\n",
    "      self.max_seq_len = max(self.max_seq_len, len(token_ids))\n",
    "      x.append(token_ids)\n",
    "      y.append(self.classes.index(label))\n",
    "\n",
    "    return np.array(x), np.array(y)\n",
    "\n",
    "  def _pad(self, ids):\n",
    "    x = []\n",
    "    for input_ids in ids:\n",
    "      input_ids = input_ids[:min(len(input_ids), self.max_seq_len - 2)]\n",
    "      input_ids = input_ids + [0] * (self.max_seq_len - len(input_ids))\n",
    "      x.append(np.array(input_ids))\n",
    "    return np.array(x)"
   ]
  },
  {
   "cell_type": "markdown",
   "metadata": {
    "id": "3OAMl2YMhgac"
   },
   "source": [
    "Load the tokenizer for the bert pretrained model."
   ]
  },
  {
   "cell_type": "code",
   "execution_count": 18,
   "metadata": {
    "id": "wRAs51qHUKxD"
   },
   "outputs": [],
   "source": [
    "tokenizer = FullTokenizer(vocab_file=os.path.join(bert_dir, \"vocab.txt\"))"
   ]
  },
  {
   "cell_type": "code",
   "execution_count": 23,
   "metadata": {
    "id": "SeElYQmyrA-D",
    "colab": {
     "base_uri": "https://localhost:8080/"
    },
    "outputId": "af5c5f14-8ea6-4c64-cfb6-3bb9fa3a1a26"
   },
   "outputs": [
    {
     "data": {
      "text/plain": [
       "['i', 'can', '##t', 'wait', 'to', 'visiting', 'my', 'place', 'again']"
      ]
     },
     "execution_count": 23,
     "metadata": {
      "tags": []
     },
     "output_type": "execute_result"
    }
   ],
   "source": [
    "tokenizer.tokenize(preprocess_sentence(\"I can't wait to visiting my place again!\"))"
   ]
  },
  {
   "cell_type": "code",
   "execution_count": 24,
   "metadata": {
    "id": "ziE-oJlkrMKO",
    "colab": {
     "base_uri": "https://localhost:8080/"
    },
    "outputId": "1784091c-27d7-4740-b1bf-0e17404c1876"
   },
   "outputs": [
    {
     "data": {
      "text/plain": [
       "[1045, 2064, 2102, 3524, 2000, 5873, 2026, 2173, 2153]"
      ]
     },
     "execution_count": 24,
     "metadata": {
      "tags": []
     },
     "output_type": "execute_result"
    }
   ],
   "source": [
    "tokens = tokenizer.tokenize(preprocess_sentence(\"I can't wait to visiting my place again!\"))\n",
    "tokenizer.convert_tokens_to_ids(tokens)"
   ]
  },
  {
   "cell_type": "markdown",
   "metadata": {
    "id": "pYWrCcB6ijIC"
   },
   "source": [
    "Below is the method to create our model.\n",
    "\n",
    "*   Here we used Bert model, created using *BertModelLayer* and generate a bert matrix with max sequence length.\n",
    "*   Add dropouts layers with tanh activation and dense layer with sigmoid activation.\n",
    "*   Build the modell with max sequence length.\n",
    "*   then load the stock weights.\n",
    "\n",
    "---\n",
    "\n"
   ]
  },
  {
   "cell_type": "code",
   "execution_count": 25,
   "metadata": {
    "id": "jFhh_CBUUP1-"
   },
   "outputs": [],
   "source": [
    "\n",
    "def create_model(max_seq_len, bert_file):\n",
    "\n",
    "  with tf.io.gfile.GFile(bert_config, \"r\") as reader:\n",
    "      bc = StockBertConfig.from_json_string(reader.read())\n",
    "      bert_params = map_stock_config_to_params(bc)\n",
    "      bert_params.adapter_size = None\n",
    "      bert = BertModelLayer.from_params(bert_params, name=\"bert\")\n",
    "  \n",
    "  input_ids = keras.layers.Input(shape=(max_seq_len, ), dtype='int32', name=\"input_ids\")\n",
    "  bert_output = bert(input_ids)\n",
    "\n",
    "  cls_out = keras.layers.Lambda(lambda seq: seq[:, 0, :])(bert_output)\n",
    "  cls_out = keras.layers.Dropout(0.5)(cls_out)\n",
    "  logits = keras.layers.Dense(units=250, activation=\"tanh\")(cls_out)\n",
    "  logits = keras.layers.Dropout(0.5)(logits)\n",
    "  logits = keras.layers.Dense(units=2, activation=\"sigmoid\")(logits)\n",
    "\n",
    "  model = keras.Model(inputs=input_ids, outputs=logits)\n",
    " \n",
    "  model.build(input_shape=(None, max_seq_len))\n",
    "  model.summary()\n",
    "  load_stock_weights(bert, bert_file)\n",
    "        \n",
    "  return model"
   ]
  },
  {
   "cell_type": "markdown",
   "metadata": {
    "id": "FIjcpacFmUru"
   },
   "source": [
    "Get the summary of the information we have till now."
   ]
  },
  {
   "cell_type": "code",
   "execution_count": 26,
   "metadata": {
    "colab": {
     "base_uri": "https://localhost:8080/"
    },
    "id": "j9bOx_UoUSJ-",
    "outputId": "af1d2d77-f02c-43fe-cac8-950da1a6823f"
   },
   "outputs": [
    {
     "name": "stderr",
     "output_type": "stream",
     "text": [
      "4500it [00:01, 2407.68it/s]\n",
      "500it [00:00, 2325.40it/s]\n"
     ]
    }
   ],
   "source": [
    "classes = train.label.unique().tolist()\n",
    "data = ScarcasmDetectionData(train, valid, tokenizer, classes, max_seq_len=100)\n"
   ]
  },
  {
   "cell_type": "code",
   "execution_count": 27,
   "metadata": {
    "colab": {
     "base_uri": "https://localhost:8080/"
    },
    "id": "kO2qUjqMUWyu",
    "outputId": "700db25c-0709-40d3-b9fe-60dae1d9eef2"
   },
   "outputs": [
    {
     "name": "stdout",
     "output_type": "stream",
     "text": [
      "Model: \"functional_1\"\n",
      "_________________________________________________________________\n",
      "Layer (type)                 Output Shape              Param #   \n",
      "=================================================================\n",
      "input_ids (InputLayer)       [(None, 78)]              0         \n",
      "_________________________________________________________________\n",
      "bert (BertModelLayer)        (None, 78, 768)           108890112 \n",
      "_________________________________________________________________\n",
      "lambda (Lambda)              (None, 768)               0         \n",
      "_________________________________________________________________\n",
      "dropout (Dropout)            (None, 768)               0         \n",
      "_________________________________________________________________\n",
      "dense (Dense)                (None, 250)               192250    \n",
      "_________________________________________________________________\n",
      "dropout_1 (Dropout)          (None, 250)               0         \n",
      "_________________________________________________________________\n",
      "dense_1 (Dense)              (None, 2)                 502       \n",
      "=================================================================\n",
      "Total params: 109,082,864\n",
      "Trainable params: 109,082,864\n",
      "Non-trainable params: 0\n",
      "_________________________________________________________________\n",
      "Done loading 196 BERT weights from: model/uncased_L-12_H-768_A-12/bert_model.ckpt into <bert.model.BertModelLayer object at 0x7f6ecf2194a8> (prefix:bert). Count of weights not found in the checkpoint was: [0]. Count of weights with mismatched shape: [0]\n",
      "Unused weights from checkpoint: \n",
      "\tbert/embeddings/token_type_embeddings\n",
      "\tbert/pooler/dense/bias\n",
      "\tbert/pooler/dense/kernel\n",
      "\tcls/predictions/output_bias\n",
      "\tcls/predictions/transform/LayerNorm/beta\n",
      "\tcls/predictions/transform/LayerNorm/gamma\n",
      "\tcls/predictions/transform/dense/bias\n",
      "\tcls/predictions/transform/dense/kernel\n",
      "\tcls/seq_relationship/output_bias\n",
      "\tcls/seq_relationship/output_weights\n"
     ]
    }
   ],
   "source": [
    "model = create_model(data.max_seq_len, bert_file)"
   ]
  },
  {
   "cell_type": "markdown",
   "metadata": {
    "id": "r-pdKIB8mhcc"
   },
   "source": [
    "Compile the model with Adam Optimizer by using SparseCategoricalCrossEntropy and SparseCategoricalAccracy metrics."
   ]
  },
  {
   "cell_type": "code",
   "execution_count": 28,
   "metadata": {
    "id": "C0yjNRXUUZ9O"
   },
   "outputs": [],
   "source": [
    "optimizer = keras.optimizers.Adam(learning_rate=1e-5,epsilon=1e-08)\n",
    "model.compile(\n",
    "  optimizer=optimizer,\n",
    "  loss=keras.losses.SparseCategoricalCrossentropy(from_logits=True),\n",
    "  metrics=[keras.metrics.SparseCategoricalAccuracy(name=\"acc\")]\n",
    ")"
   ]
  },
  {
   "cell_type": "code",
   "execution_count": 29,
   "metadata": {
    "id": "h-S0fGo6UcMV"
   },
   "outputs": [],
   "source": [
    "# Plot the Epoch-Loss chart.\n",
    "def plotLossEpochs(trainedModel):\n",
    "  gca = plt.figure().gca()\n",
    "  gca.xaxis.set_major_locator(MaxNLocator(integer=True))\n",
    "  gca.plot(trainedModel.history['loss'])\n",
    "  gca.plot(trainedModel.history['val_loss'])\n",
    "\n",
    "  plt.ylabel('Loss')\n",
    "  plt.xlabel('Epoch')\n",
    "  plt.legend(['train', 'test'])\n",
    "  plt.title('Loss over training epochs')\n",
    "  plt.show();\n",
    "\n",
    "# Plot the Epoch-Accuracy chart.\n",
    "def plotAccuracyEpochs(trainedModel):\n",
    "  gca = plt.figure().gca()\n",
    "  gca.xaxis.set_major_locator(MaxNLocator(integer=True))\n",
    "  gca.plot(trainedModel.history['acc'])\n",
    "  gca.plot(trainedModel.history['val_acc'])\n",
    "\n",
    "  plt.ylabel('Accuracy')\n",
    "  plt.xlabel('Epoch')\n",
    "  plt.legend(['train', 'test'])\n",
    "  plt.title('Accuracy over training epochs')\n",
    "  plt.show();\n",
    "\n",
    "# Training method\n",
    "def training_set(batch_size, epochs, cp_callback):\n",
    "  return model.fit(\n",
    "    x=data.train_x, \n",
    "    y=data.train_y,\n",
    "    validation_split=0.1,\n",
    "    batch_size=batch_size,\n",
    "    shuffle=True,\n",
    "    epochs=epochs,\n",
    "    callbacks=[cp_callback]\n",
    "  )\n",
    "\n"
   ]
  },
  {
   "cell_type": "markdown",
   "metadata": {
    "id": "BPwoIoeynehe"
   },
   "source": [
    "Generate an iterative training with variable batch size and epochs and draw charts."
   ]
  },
  {
   "cell_type": "code",
   "execution_count": 30,
   "metadata": {
    "colab": {
     "base_uri": "https://localhost:8080/",
     "height": 1000.0
    },
    "id": "INO9yeA7vhHK",
    "outputId": "521aff4b-8e41-4df9-ee80-89da2554684d"
   },
   "outputs": [
    {
     "name": "stdout",
     "output_type": "stream",
     "text": [
      "Epoch 1/5\n",
      "254/254 [==============================] - ETA: 0s - loss: 0.6761 - acc: 0.5807\n",
      "Epoch 00001: saving model to model/bert_faq.ckpt\n",
      "254/254 [==============================] - 121s 478ms/step - loss: 0.6761 - acc: 0.5807 - val_loss: 0.5784 - val_acc: 0.7089\n",
      "Epoch 2/5\n",
      "254/254 [==============================] - ETA: 0s - loss: 0.5674 - acc: 0.7301\n",
      "Epoch 00002: saving model to model/bert_faq.ckpt\n",
      "254/254 [==============================] - 122s 479ms/step - loss: 0.5674 - acc: 0.7301 - val_loss: 0.5908 - val_acc: 0.7022\n",
      "Epoch 3/5\n",
      "254/254 [==============================] - ETA: 0s - loss: 0.5079 - acc: 0.7993\n",
      "Epoch 00003: saving model to model/bert_faq.ckpt\n",
      "254/254 [==============================] - 122s 479ms/step - loss: 0.5079 - acc: 0.7993 - val_loss: 0.6124 - val_acc: 0.6756\n",
      "Epoch 4/5\n",
      "254/254 [==============================] - ETA: 0s - loss: 0.4591 - acc: 0.8533\n",
      "Epoch 00004: saving model to model/bert_faq.ckpt\n",
      "254/254 [==============================] - 121s 477ms/step - loss: 0.4591 - acc: 0.8533 - val_loss: 0.6069 - val_acc: 0.6911\n",
      "Epoch 5/5\n",
      "254/254 [==============================] - ETA: 0s - loss: 0.4293 - acc: 0.8830\n",
      "Epoch 00005: saving model to model/bert_faq.ckpt\n",
      "254/254 [==============================] - 121s 478ms/step - loss: 0.4293 - acc: 0.8830 - val_loss: 0.5810 - val_acc: 0.7244\n"
     ]
    },
    {
     "data": {
      "image/png": "[encoded data removed]",
      "text/plain": [
       "<Figure size 432x288 with 1 Axes>"
      ]
     },
     "metadata": {
      "tags": [],
      "needs_background": "light"
     },
     "output_type": "display_data"
    },
    {
     "data": {
      "image/png": "[encoded data removed]",
      "text/plain": [
       "<Figure size 432x288 with 1 Axes>"
      ]
     },
     "metadata": {
      "tags": [],
      "needs_background": "light"
     },
     "output_type": "display_data"
    },
    {
     "name": "stdout",
     "output_type": "stream",
     "text": [
      "Epoch 1/3\n",
      "127/127 [==============================] - ETA: 0s - loss: 0.4039 - acc: 0.9084\n",
      "Epoch 00001: saving model to model/bert_faq.ckpt\n",
      "127/127 [==============================] - 96s 755ms/step - loss: 0.4039 - acc: 0.9084 - val_loss: 0.5861 - val_acc: 0.7244\n",
      "Epoch 2/3\n",
      "127/127 [==============================] - ETA: 0s - loss: 0.3914 - acc: 0.9227\n",
      "Epoch 00002: saving model to model/bert_faq.ckpt\n",
      "127/127 [==============================] - 96s 756ms/step - loss: 0.3914 - acc: 0.9227 - val_loss: 0.6144 - val_acc: 0.6844\n",
      "Epoch 3/3\n",
      "127/127 [==============================] - ETA: 0s - loss: 0.3852 - acc: 0.9279\n",
      "Epoch 00003: saving model to model/bert_faq.ckpt\n",
      "127/127 [==============================] - 96s 757ms/step - loss: 0.3852 - acc: 0.9279 - val_loss: 0.6568 - val_acc: 0.6489\n"
     ]
    },
    {
     "data": {
      "image/png": "[encoded data removed]",
      "text/plain": [
       "<Figure size 432x288 with 1 Axes>"
      ]
     },
     "metadata": {
      "tags": [],
      "needs_background": "light"
     },
     "output_type": "display_data"
    },
    {
     "data": {
      "image/png": "[encoded data removed]",
      "text/plain": [
       "<Figure size 432x288 with 1 Axes>"
      ]
     },
     "metadata": {
      "tags": [],
      "needs_background": "light"
     },
     "output_type": "display_data"
    },
    {
     "name": "stdout",
     "output_type": "stream",
     "text": [
      "Epoch 1/3\n",
      "64/64 [==============================] - ETA: 0s - loss: 0.3729 - acc: 0.9420\n",
      "Epoch 00001: saving model to model/bert_faq.ckpt\n",
      "64/64 [==============================] - 85s 1s/step - loss: 0.3729 - acc: 0.9420 - val_loss: 0.5881 - val_acc: 0.7244\n",
      "Epoch 2/3\n",
      "64/64 [==============================] - ETA: 0s - loss: 0.3707 - acc: 0.9432\n",
      "Epoch 00002: saving model to model/bert_faq.ckpt\n",
      "64/64 [==============================] - 85s 1s/step - loss: 0.3707 - acc: 0.9432 - val_loss: 0.6021 - val_acc: 0.7000\n",
      "Epoch 3/3\n",
      "64/64 [==============================] - ETA: 0s - loss: 0.3677 - acc: 0.9454\n",
      "Epoch 00003: saving model to model/bert_faq.ckpt\n",
      "64/64 [==============================] - 85s 1s/step - loss: 0.3677 - acc: 0.9454 - val_loss: 0.6111 - val_acc: 0.6933\n"
     ]
    },
    {
     "data": {
      "image/png": "[encoded data removed]",
      "text/plain": [
       "<Figure size 432x288 with 1 Axes>"
      ]
     },
     "metadata": {
      "tags": [],
      "needs_background": "light"
     },
     "output_type": "display_data"
    },
    {
     "data": {
      "image/png": "[encoded data removed]",
      "text/plain": [
       "<Figure size 432x288 with 1 Axes>"
      ]
     },
     "metadata": {
      "tags": [],
      "needs_background": "light"
     },
     "output_type": "display_data"
    }
   ],
   "source": [
    "training_inputs = [(16,5), (32,3), (64,3)]\n",
    "checkpointName = os.path.join(\"model/\", \"bert_faq.ckpt\")\n",
    "cp_callback = tf.keras.callbacks.ModelCheckpoint(filepath=checkpointName,\n",
    "                                                 save_weights_only=True,\n",
    "                                                 verbose=1)\n",
    "for batch_size, epochs in training_inputs:\n",
    "    modelTrained = training_set(batch_size, epochs, cp_callback)\n",
    "    plotLossEpochs(modelTrained)\n",
    "    plotAccuracyEpochs(modelTrained)\n"
   ]
  },
  {
   "cell_type": "markdown",
   "metadata": {
    "id": "xgh-8YX6oHbr"
   },
   "source": [
    "# Evaluation\n",
    "Lets calculate the final accuracy & recal after the training is completed."
   ]
  },
  {
   "cell_type": "code",
   "execution_count": null,
   "metadata": {
    "id": "1xcBFaNInduI",
    "colab": {
     "base_uri": "https://localhost:8080/"
    },
    "outputId": "15e08b31-405b-44ee-da12-c3453bb27010"
   },
   "outputs": [],
   "source": [
    "_, train_acc = model.evaluate(data.train_x, data.train_y)\n",
    "_, test_acc = model.evaluate(data.test_x, data.test_y)\n",
    "\n",
    "print(\"Train Acc\", train_acc)\n",
    "print(\"validation Acc\", test_acc)\n",
    "\n",
    "sentences = list(test.response)\n",
    "y_pred = model.predict(data.test_x).argmax(axis=-1)"
   ]
  },
  {
   "cell_type": "code",
   "execution_count": null,
   "metadata": {
    "id": "qqWuv07enpax"
   },
   "outputs": [],
   "source": [
    "print(classification_report(data.test_y, y_pred, target_names=classes))"
   ]
  },
  {
   "cell_type": "markdown",
   "metadata": {
    "id": "7sTSQNsuo3DU"
   },
   "source": [
    "Lets draw a confusion matrix for the actual and predicted labels."
   ]
  },
  {
   "cell_type": "code",
   "execution_count": null,
   "metadata": {
    "id": "0qy7JQtGUvDA"
   },
   "outputs": [],
   "source": [
    "cm = confusion_matrix(data.test_y, y_pred)\n",
    "df_cm = pd.DataFrame(cm, index=classes, columns=classes)\n",
    "hmap = sns.heatmap(df_cm, annot=True, fmt=\"d\")\n",
    "hmap.yaxis.set_ticklabels(hmap.yaxis.get_ticklabels(), rotation=0, ha='right')\n",
    "hmap.xaxis.set_ticklabels(hmap.xaxis.get_ticklabels(), rotation=30, ha='right')\n",
    "plt.ylabel('True label')\n",
    "plt.xlabel('Predicted label');\n"
   ]
  },
  {
   "cell_type": "code",
   "execution_count": null,
   "metadata": {
    "id": "QVbejvWEUxLJ"
   },
   "outputs": [],
   "source": [
    ""
   ]
  },
  {
   "cell_type": "markdown",
   "metadata": {
    "id": "ZPzEjF5mpY2y"
   },
   "source": [
    "# Prediction\n",
    "Sample sentences for our testing."
   ]
  },
  {
   "cell_type": "code",
   "execution_count": null,
   "metadata": {
    "id": "yz1Jc3D65AIV"
   },
   "outputs": [],
   "source": [
    "sentences = [\n",
    "  \"You just broke my car window. Great job.\",\n",
    "  \"I sprayed perfume in my eye! I am now a genius\",\n",
    "  \"I was depressed. He asked me to be happy. I am not depressed anymore.\"\n",
    "]\n",
    "\n",
    "pred_tokens = map(tokenizer.tokenize, sentences)\n",
    "pred_tokens = map(lambda tok: [\"[CLS]\"] + tok + [\"[SEP]\"], pred_tokens)\n",
    "pred_token_ids = list(map(tokenizer.convert_tokens_to_ids, pred_tokens))\n",
    "\n",
    "pred_token_ids = map(lambda tids: tids +[0]*(data.max_seq_len-len(tids)),pred_token_ids)\n",
    "pred_token_ids = np.array(list(pred_token_ids))\n",
    "\n",
    "predictions = model.predict(pred_token_ids).argmax(axis=-1)\n",
    "\n",
    "for text, label in zip(sentences, predictions):\n",
    "  print(\"text:\", text, \"\\nsarcastic:\", classes[label])\n",
    "  print()"
   ]
  },
  {
   "cell_type": "markdown",
   "metadata": {
    "id": "dfhQIVWrpoRl"
   },
   "source": [
    "Lets predict the labels for the list of tweets provided in test list."
   ]
  },
  {
   "cell_type": "code",
   "execution_count": null,
   "metadata": {
    "id": "aogU3qSlU1dQ"
   },
   "outputs": [],
   "source": [
    "sentences = list(map(preprocess_sentence, test.response))\n",
    "ids = list(test.id)\n",
    "\n",
    "pred_tokens = map(tokenizer.tokenize, sentences)\n",
    "pred_tokens = map(lambda tok: [\"[CLS]\"] + tok + [\"[SEP]\"], pred_tokens)\n",
    "pred_token_ids = list(map(tokenizer.convert_tokens_to_ids, pred_tokens))\n",
    "\n",
    "pred_token_ids = map(lambda tids: tids +[0]*(data.max_seq_len-len(tids)),pred_token_ids)\n",
    "pred_token_ids = np.array(list(pred_token_ids))\n",
    "\n",
    "predictions = model.predict(pred_token_ids).argmax(axis=-1)\n"
   ]
  },
  {
   "cell_type": "markdown",
   "metadata": {
    "id": "OriTW32fp3kr"
   },
   "source": [
    "Get the predict labels for context tweets as well."
   ]
  },
  {
   "cell_type": "code",
   "execution_count": null,
   "metadata": {
    "id": "Yja6RRfmCvK7"
   },
   "outputs": [],
   "source": [
    "sentences_cont = list(map(preprocess_sentence, list(map(lambda tw: tw[len(tw) - 1], test.context))))\n",
    "\n",
    "pred_cont_tokens = map(tokenizer.tokenize, sentences_cont)\n",
    "pred_cont_tokens = map(lambda tok: [\"[CLS]\"] + tok + [\"[SEP]\"], pred_cont_tokens)\n",
    "pred_cont_token_ids = list(map(tokenizer.convert_tokens_to_ids, pred_cont_tokens))\n",
    "\n",
    "pred_cont_token_ids = map(lambda tids: tids +[0]*(data.max_seq_len-len(tids)),pred_cont_token_ids)\n",
    "pred_cont_token_ids = np.array(list(pred_cont_token_ids))\n",
    "\n",
    "predictions_cont = model.predict(pred_cont_token_ids).argmax(axis=-1)"
   ]
  },
  {
   "cell_type": "markdown",
   "metadata": {
    "id": "CXXiqhnfp_OT"
   },
   "source": [
    "Generate the answer text for the test file."
   ]
  },
  {
   "cell_type": "code",
   "execution_count": null,
   "metadata": {
    "id": "x5RJyOVzLNfn"
   },
   "outputs": [],
   "source": [
    "for text, label, id, pred_cont, context in zip(sentences, predictions, ids, predictions_cont, sentences_cont):\n",
    "  label_new = label\n",
    "  print('{0},{1}'.format(id, classes[label_new], text, pred_cont))"
   ]
  },
  {
   "cell_type": "markdown",
   "metadata": {
    "id": "OD9CpYEjqNIT"
   },
   "source": [
    "# Save Trained Model\n",
    "Save the generated model to a file. which we can use later by loading it from the drive."
   ]
  },
  {
   "cell_type": "code",
   "execution_count": null,
   "metadata": {
    "id": "k2pp1z3QNj_f"
   },
   "outputs": [],
   "source": [
    "!mkdir -p saved_model\n",
    "model.save('saved_model/my_model')\n",
    "new_model = tf.keras.models.load_model('saved_model/my_model')\n",
    "\n",
    "# Check its architecture\n",
    "new_model.summary()"
   ]
  },
  {
   "cell_type": "code",
   "execution_count": null,
   "metadata": {
    "id": "3OV-Hi2TQnWy"
   },
   "outputs": [],
   "source": [
    "!zip -r /content/myModel.zip /content/saved_model/my_model"
   ]
  }
 ],
 "metadata": {
  "accelerator": "GPU",
  "colab": {
   "name": "Text_Classification_Twitter_Sarcasm_Detection.ipynb",
   "provenance": [],
   "collapsed_sections": [],
   "toc_visible": true
  },
  "kernelspec": {
   "display_name": "Python 3",
   "name": "python3"
  }
 },
 "nbformat": 4,
 "nbformat_minor": 0
}
